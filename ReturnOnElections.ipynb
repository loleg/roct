{
 "cells": [
  {
   "cell_type": "markdown",
   "id": "2677c71a-ef64-41e9-8b13-b3fb775e9cfc",
   "metadata": {},
   "source": [
    "# Return on Campaign Transparency\n",
    "\n",
    "A quick aggregation of the Money in Politics and Swiss Elections 2023 data.\n",
    "\n",
    "Sources:\n",
    "\n",
    "- [moneyinpolitics.ch](https://moneyinpolitics.ch/data)\n",
    "- [opendata.swiss](https://opendata.swiss/de/dataset/eidg-wahlen-2023)"
   ]
  },
  {
   "cell_type": "code",
   "execution_count": 1,
   "id": "09ddc995-3d60-49b9-ac1f-996c5c7f5031",
   "metadata": {},
   "outputs": [],
   "source": [
    "import os\n",
    "import pandas as pd\n",
    "from matplotlib import pyplot as plt"
   ]
  },
  {
   "cell_type": "code",
   "execution_count": 5,
   "id": "3300b463-2137-4a03-8ca4-88fc88f446de",
   "metadata": {},
   "outputs": [],
   "source": [
    "# Download and cache results of the elections\n",
    "f_parties = 'sd-t-17.02-NRW2023-parteien-appendix.csv'\n",
    "if not os.path.exists(f_parties):\n",
    "    import requests\n",
    "    url = 'https://ogd-static.voteinfo-app.ch/v4/ogd/sd-t-17.02-NRW2023-parteien-appendix.csv'\n",
    "    response = requests.get(url)\n",
    "    with open(f_parties, 'wb') as f:\n",
    "        f.write(response.content)"
   ]
  },
  {
   "cell_type": "code",
   "execution_count": 6,
   "id": "aa0fca8d-c944-4310-af26-882060ef47b6",
   "metadata": {},
   "outputs": [
    {
     "data": {
      "text/plain": [
       "'Results: 21548 / Money: 14'"
      ]
     },
     "execution_count": 6,
     "metadata": {},
     "output_type": "execute_result"
    }
   ],
   "source": [
    "# Read in the election results\n",
    "df_elect = pd.read_csv(f_parties, header=0, sep=';')\n",
    "# Read in a pre-aggregated summary of the moneyinpolitics data\n",
    "df_money = pd.read_csv('moneyinpolitics-summary.csv', header=0, sep=',')\n",
    "\n",
    "'Results: %d / Money: %d' % (len(df_elect), len(df_money))"
   ]
  },
  {
   "cell_type": "code",
   "execution_count": 7,
   "id": "99e0c043-ad23-458f-b399-ae818d25d5cf",
   "metadata": {},
   "outputs": [
    {
     "data": {
      "text/plain": [
       "['FDP',\n",
       " 'SP',\n",
       " 'SVP',\n",
       " 'EVP',\n",
       " 'CSP',\n",
       " 'PdA/Sol.',\n",
       " 'FGA',\n",
       " 'GRÜNE',\n",
       " 'SD',\n",
       " 'EDU',\n",
       " 'Lega',\n",
       " 'GLP',\n",
       " 'MCR',\n",
       " 'Mitte',\n",
       " 'Others']"
      ]
     },
     "execution_count": 7,
     "metadata": {},
     "output_type": "execute_result"
    }
   ],
   "source": [
    "# List of leading national parties as per BFS data\n",
    "parties_2023 = \"\"\"FDP SP SVP EVP CSP PdA/Sol. FGA GRÜNE SD EDU Lega GLP MCR Mitte Others\"\"\".split(' ')\n",
    "parties_2023"
   ]
  },
  {
   "cell_type": "code",
   "execution_count": 8,
   "id": "243dacbf-9e39-43df-8025-b2760e51b60c",
   "metadata": {},
   "outputs": [
    {
     "data": {
      "text/html": [
       "<div>\n",
       "<style scoped>\n",
       "    .dataframe tbody tr th:only-of-type {\n",
       "        vertical-align: middle;\n",
       "    }\n",
       "\n",
       "    .dataframe tbody tr th {\n",
       "        vertical-align: top;\n",
       "    }\n",
       "\n",
       "    .dataframe thead th {\n",
       "        text-align: right;\n",
       "    }\n",
       "</style>\n",
       "<table border=\"1\" class=\"dataframe\">\n",
       "  <thead>\n",
       "    <tr style=\"text-align: right;\">\n",
       "      <th></th>\n",
       "      <th>stimmen</th>\n",
       "      <th>differenz</th>\n",
       "      <th>kandidierende</th>\n",
       "      <th>gewaehlte</th>\n",
       "      <th>profitiert</th>\n",
       "      <th>fuehrt</th>\n",
       "    </tr>\n",
       "  </thead>\n",
       "  <tbody>\n",
       "    <tr>\n",
       "      <th>FDP</th>\n",
       "      <td>10528584</td>\n",
       "      <td>-149636</td>\n",
       "      <td>1290</td>\n",
       "      <td>55</td>\n",
       "      <td>14536881</td>\n",
       "      <td>11836745</td>\n",
       "    </tr>\n",
       "    <tr>\n",
       "      <th>SP</th>\n",
       "      <td>16141626</td>\n",
       "      <td>3101720</td>\n",
       "      <td>1406</td>\n",
       "      <td>82</td>\n",
       "      <td>8534985</td>\n",
       "      <td>7919449</td>\n",
       "    </tr>\n",
       "    <tr>\n",
       "      <th>SVP</th>\n",
       "      <td>22645070</td>\n",
       "      <td>2669838</td>\n",
       "      <td>1238</td>\n",
       "      <td>124</td>\n",
       "      <td>13749507</td>\n",
       "      <td>11203356</td>\n",
       "    </tr>\n",
       "    <tr>\n",
       "      <th>EVP</th>\n",
       "      <td>2097870</td>\n",
       "      <td>-44274</td>\n",
       "      <td>732</td>\n",
       "      <td>4</td>\n",
       "      <td>1564136</td>\n",
       "      <td>1181000</td>\n",
       "    </tr>\n",
       "    <tr>\n",
       "      <th>CSP</th>\n",
       "      <td>33052</td>\n",
       "      <td>-34038</td>\n",
       "      <td>14</td>\n",
       "      <td>0</td>\n",
       "      <td>0</td>\n",
       "      <td>0</td>\n",
       "    </tr>\n",
       "  </tbody>\n",
       "</table>\n",
       "</div>"
      ],
      "text/plain": [
       "      stimmen  differenz  kandidierende  gewaehlte  profitiert    fuehrt\n",
       "FDP  10528584    -149636           1290         55    14536881  11836745\n",
       "SP   16141626    3101720           1406         82     8534985   7919449\n",
       "SVP  22645070    2669838           1238        124    13749507  11203356\n",
       "EVP   2097870     -44274            732          4     1564136   1181000\n",
       "CSP     33052     -34038             14          0           0         0"
      ]
     },
     "execution_count": 8,
     "metadata": {},
     "output_type": "execute_result"
    }
   ],
   "source": [
    "# Sum the party values\n",
    "combined = {}\n",
    "for p in parties_2023:\n",
    "    this_p = df_elect[df_elect['partei_bezeichnung_de'] == p]\n",
    "    this_m = df_money[df_money['name'] == p]\n",
    "    combined[p] = {\n",
    "        'stimmen': int(this_p['stimmen_partei'].sum()),\n",
    "        'differenz': int(this_p['differenz_stimmen_partei'].sum()),\n",
    "        'kandidierende': int(this_p['anzahl_kandidierende'].sum()),\n",
    "        'gewaehlte': int(this_p['anzahl_gewaehlte'].sum()),\n",
    "        'profitiert': int(this_m['profitiert'].sum()),\n",
    "        'fuehrt': int(this_m['fuehrt'].sum()),\n",
    "    }\n",
    "df_combined = pd.DataFrame(combined).T\n",
    "df_combined.head()"
   ]
  },
  {
   "cell_type": "code",
   "execution_count": 9,
   "id": "59287900-2fa8-4629-9c23-086e9525cfe1",
   "metadata": {},
   "outputs": [],
   "source": [
    "def trim_dataframe(df, col):\n",
    "    return df[~((df[col] == 0) | (pd.isnull(df[col])))]"
   ]
  },
  {
   "cell_type": "code",
   "execution_count": 10,
   "id": "d6ea3ce8-1efd-480d-bc16-15fb81179705",
   "metadata": {},
   "outputs": [],
   "source": [
    "# Create a simple indicator of effective votes\n",
    "df_combined['ROP'] = df_combined['profitiert'] / df_combined['stimmen']\n",
    "df_combined['ROF'] = df_combined['fuehrt'] / df_combined['stimmen']\n",
    "df_combined['ROCT'] = 100 * (df_combined['ROP'] + df_combined['ROF'])\n",
    "df_sorted = trim_dataframe(df_combined, 'ROCT').sort_values('ROCT', ascending=True)"
   ]
  },
  {
   "cell_type": "code",
   "execution_count": 11,
   "id": "a15aede8-cd89-465c-8e17-8cfc54b72d44",
   "metadata": {},
   "outputs": [
    {
     "data": {
      "image/png": "[encoded data removed]",
      "text/plain": [
       "<Figure size 640x480 with 1 Axes>"
      ]
     },
     "metadata": {},
     "output_type": "display_data"
    }
   ],
   "source": [
    "# Generate a matplot\n",
    "df_sorted.plot(title='Return on Campaign Transparency', kind='barh', y=['ROCT'], legend=False)\n",
    "plt.savefig('chart.png')"
   ]
  }
 ],
 "metadata": {
  "kernelspec": {
   "display_name": "Python 3 (ipykernel)",
   "language": "python",
   "name": "python3"
  },
  "language_info": {
   "codemirror_mode": {
    "name": "ipython",
    "version": 3
   },
   "file_extension": ".py",
   "mimetype": "text/x-python",
   "name": "python",
   "nbconvert_exporter": "python",
   "pygments_lexer": "ipython3",
   "version": "3.11.5"
  }
 },
 "nbformat": 4,
 "nbformat_minor": 5
}
